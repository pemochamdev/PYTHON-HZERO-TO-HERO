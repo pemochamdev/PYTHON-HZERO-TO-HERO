{
 "cells": [
  {
   "cell_type": "code",
   "execution_count": null,
   "metadata": {},
   "outputs": [],
   "source": [
    "'''\n",
    "    while condiction:\n",
    "        intruction\n",
    "'''"
   ]
  },
  {
   "cell_type": "code",
   "execution_count": 14,
   "metadata": {},
   "outputs": [
    {
     "name": "stdout",
     "output_type": "stream",
     "text": [
      "Index :  2  nbre pair :  2\n",
      "1\n",
      "Index :  4  nbre pair :  4\n",
      "3\n",
      "Index :  6  nbre pair :  6\n",
      "5\n",
      "Index :  8  nbre pair :  8\n",
      "7\n",
      "Index :  10  nbre pair :  0\n",
      "9\n",
      "Index :  13  nbre pair :  78\n",
      "12\n",
      "Index :  14  nbre pair :  90\n",
      "13\n"
     ]
    }
   ],
   "source": [
    "i = 0\n",
    "\n",
    "while i<3:\n",
    "    nbres = [1,2,3,4,5,6,7,8,9,0,29,45,78,90]\n",
    "    for index , pair in enumerate(nbres, start=1):\n",
    "        if pair % 2 ==0:\n",
    "            print(\"Index : \", index, \" nbre pair : \", pair)\n",
    "            print(i)\n",
    "        i +=1"
   ]
  },
  {
   "cell_type": "code",
   "execution_count": 38,
   "metadata": {},
   "outputs": [
    {
     "name": "stdout",
     "output_type": "stream",
     "text": [
      "0\n",
      "1\n",
      "2\n",
      "3\n",
      "4\n"
     ]
    }
   ],
   "source": [
    "i = 0\n",
    "while True:\n",
    "    if i>=5:\n",
    "        break\n",
    "    print(i)\n",
    "    i +=1"
   ]
  },
  {
   "cell_type": "code",
   "execution_count": 41,
   "metadata": {},
   "outputs": [
    {
     "name": "stdout",
     "output_type": "stream",
     "text": [
      "0\n",
      "2\n",
      "4\n"
     ]
    }
   ],
   "source": [
    "i=0\n",
    "\n",
    "while i<5:\n",
    "    if i%2 ==0:\n",
    "        print(i)\n",
    "    i+=1"
   ]
  },
  {
   "cell_type": "code",
   "execution_count": 42,
   "metadata": {},
   "outputs": [
    {
     "name": "stdout",
     "output_type": "stream",
     "text": [
      "1\n",
      "2\n",
      "3\n",
      "5\n"
     ]
    }
   ],
   "source": [
    "i = 0\n",
    "while i<5:\n",
    "    i = i + 1\n",
    "    if i == 4:\n",
    "        continue\n",
    "    print(i)"
   ]
  },
  {
   "cell_type": "code",
   "execution_count": 45,
   "metadata": {},
   "outputs": [
    {
     "name": "stdout",
     "output_type": "stream",
     "text": [
      "1\n",
      "2\n",
      "3\n",
      "4\n",
      "5\n",
      "6\n",
      "7\n",
      "8\n",
      "9\n",
      "10\n"
     ]
    }
   ],
   "source": [
    "i = 1\n",
    "while i<=10:\n",
    "    print(i)\n",
    "    i = i +1"
   ]
  },
  {
   "cell_type": "code",
   "execution_count": 48,
   "metadata": {},
   "outputs": [
    {
     "name": "stdout",
     "output_type": "stream",
     "text": [
      "[3, 4, 5, 0]\n",
      "12\n"
     ]
    }
   ],
   "source": [
    "somme = 0\n",
    "nbre = None\n",
    "list_nbre = []\n",
    "\n",
    "while nbre !=0:\n",
    "    nbre = int(input(\"Entrer un nombre\"))\n",
    "    list_nbre.append(nbre)\n",
    "    somme = somme + nbre\n",
    "print(list_nbre)\n",
    "print(somme)\n"
   ]
  },
  {
   "cell_type": "markdown",
   "metadata": {},
   "source": [
    "**Consigne :** Écrivez un programme qui demande à l'utilisateur d'entrer une phrase et compte le nombre de voyelles dans cette phrase."
   ]
  },
  {
   "cell_type": "code",
   "execution_count": 51,
   "metadata": {},
   "outputs": [
    {
     "name": "stdout",
     "output_type": "stream",
     "text": [
      "je pars au champ\n",
      "5\n"
     ]
    }
   ],
   "source": [
    "phrase = str(input(\"Entrer un Phrase\"))\n",
    "\n",
    "voyelles = \"aeiouyAEIOUY\"\n",
    "\n",
    "compteur = 0\n",
    "i=0\n",
    "while i<len(phrase):\n",
    "    if phrase[i] in voyelles:\n",
    "        compteur = compteur + 1\n",
    "    i = i+1\n",
    "\n",
    "print(phrase)\n",
    "print(compteur)"
   ]
  }
 ],
 "metadata": {
  "kernelspec": {
   "display_name": "Python 3",
   "language": "python",
   "name": "python3"
  },
  "language_info": {
   "codemirror_mode": {
    "name": "ipython",
    "version": 3
   },
   "file_extension": ".py",
   "mimetype": "text/x-python",
   "name": "python",
   "nbconvert_exporter": "python",
   "pygments_lexer": "ipython3",
   "version": "3.12.1"
  }
 },
 "nbformat": 4,
 "nbformat_minor": 2
}
