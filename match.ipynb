{
 "cells": [
  {
   "cell_type": "markdown",
   "metadata": {},
   "source": [
    "## L'instruction match en Python\n",
    "### Introduction\n",
    "\n",
    "L'instruction `match`, introduite dans Python 3.10, est une structure de contrôle avancée qui permet d'effectuer du pattern matching(si la valeur est ceci, fais cela. Si la valeur est cela fais autre chose). Elle offre une alternative plus puissante et plus lisible aux structures conditionnelles traditionnelles comme `if`/`elif`/`else`, particulièrement pour traiter des structures de données complexes ou des conditions multiples.\n",
    "\n",
    "### Syntaxe de base\n",
    "\n",
    "La syntaxe générale de l'instruction `match` est la suivante :\n"
   ]
  },
  {
   "cell_type": "code",
   "execution_count": null,
   "metadata": {},
   "outputs": [],
   "source": [
    "match subject:\n",
    "    case pattern1:\n",
    "        # Action si pattern1 correspond\n",
    "    case pattern2:\n",
    "        # Action si pattern2 correspond\n",
    "    case _:\n",
    "        # Action par défaut si aucun pattern ne correspond"
   ]
  },
  {
   "cell_type": "markdown",
   "metadata": {},
   "source": [
    "### Caractéristiques importantes\n",
    "\n",
    "1. Le `subject` peut être n'importe quelle expression Python.\n",
    "2. Chaque `case` est suivi d'un pattern qui sera comparé au subject.\n",
    "3. Le pattern `_` (underscore) agit comme un wildcard et correspond à tout.\n",
    "4. Les patterns peuvent inclure des littéraux, des variables, des structures de données, et même des conditions supplémentaires (appelées \"guards\").\n",
    "\n",
    "### Exemples détaillés\n",
    "\n",
    "#### Exemple 1 : Correspondance simple avec des valeurs littérales"
   ]
  },
  {
   "cell_type": "code",
   "execution_count": 2,
   "metadata": {},
   "outputs": [
    {
     "name": "stdout",
     "output_type": "stream",
     "text": [
      "Un\n",
      "Nombre supérieur à deux\n"
     ]
    }
   ],
   "source": [
    "def describe_number(num):\n",
    "    match num:\n",
    "        case 0:\n",
    "            return \"Zéro\"\n",
    "        case 1:\n",
    "            return \"Un\"\n",
    "        case 2:\n",
    "            return \"Deux\"\n",
    "        case _:\n",
    "            return \"Nombre supérieur à deux\"\n",
    "\n",
    "print(describe_number(1))  # Affiche: Un\n",
    "print(describe_number(-4))  # Affiche: Nombre supérieur à deux"
   ]
  },
  {
   "cell_type": "code",
   "execution_count": 1,
   "metadata": {},
   "outputs": [
    {
     "name": "stdout",
     "output_type": "stream",
     "text": [
      "Fréquence des caractères : {'H': 1, 'e': 1, 'l': 3, 'o': 2, ',': 1, ' ': 1, 'W': 1, 'r': 1, 'd': 1, '!': 1}\n"
     ]
    }
   ],
   "source": [
    "string = \"Hello, World!\"\n",
    "char_count = {}\n",
    "\n",
    "for char in string:\n",
    "    if char in char_count:\n",
    "        char_count[char] += 1\n",
    "    else:\n",
    "        char_count[char] = 1\n",
    "\n",
    "print(f\"Frequence des caractères : {char_count}\")"
   ]
  }
 ],
 "metadata": {
  "kernelspec": {
   "display_name": "Python 3",
   "language": "python",
   "name": "python3"
  },
  "language_info": {
   "codemirror_mode": {
    "name": "ipython",
    "version": 3
   },
   "file_extension": ".py",
   "mimetype": "text/x-python",
   "name": "python",
   "nbconvert_exporter": "python",
   "pygments_lexer": "ipython3",
   "version": "3.12.1"
  }
 },
 "nbformat": 4,
 "nbformat_minor": 2
}
