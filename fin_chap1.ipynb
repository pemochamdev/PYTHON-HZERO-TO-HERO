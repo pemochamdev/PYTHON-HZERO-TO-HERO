{
 "cells": [
  {
   "cell_type": "markdown",
   "metadata": {},
   "source": [
    "# Les Operateurs en python\n",
    "\n",
    "* Les operateurs permettent de realiser des operations sur des valeurs ou des variables. ils se classent en plusieurs categories:\n",
    "\n",
    "### les operateurs arithmetiques:\n",
    "<p>Ils permettent d'effectuer des operation de mathematique de base</p>\n",
    "\n",
    "- Addition\n",
    "- soustraction\n",
    "- Multiplication\n",
    "- Division (/)\n",
    "- Division entiere (//)\n",
    "- modulo (%)\n",
    "- puissance(**)"
   ]
  },
  {
   "cell_type": "code",
   "execution_count": 1,
   "metadata": {},
   "outputs": [
    {
     "name": "stdout",
     "output_type": "stream",
     "text": [
      "a+b =  13\n",
      "a-b =  7\n",
      "a*b =  30\n",
      "a/b =  3.3333333333333335\n",
      "a//b =  3\n",
      "a % b =  1\n",
      "a**b =  1000\n"
     ]
    }
   ],
   "source": [
    "a = 10\n",
    "b = 3\n",
    "print(\"a+b = \", a+b)\n",
    "print(\"a-b = \", a-b)\n",
    "print(\"a*b = \", a*b)\n",
    "print(\"a/b = \", a/b)\n",
    "print(\"a//b = \", a//b)\n",
    "print(\"a % b = \", a%b)\n",
    "print(\"a**b = \", a**b)"
   ]
  },
  {
   "cell_type": "markdown",
   "metadata": {},
   "source": [
    "## Les operateurs logiques\n",
    "<p>Ils permettent de faire des comparaisons logiques entre des expressions</p>\n",
    "\n",
    "- Et (and) retourne True si les deux expressions sont vraie\n",
    "- Ou (or) retourne True si au moins une des deux expressions est vraie\n",
    "- Non (not): inverse la valeur logiquede l'expression"
   ]
  },
  {
   "cell_type": "code",
   "execution_count": 4,
   "metadata": {},
   "outputs": [
    {
     "name": "stdout",
     "output_type": "stream",
     "text": [
      " a and b =>  False\n",
      " a or b =>  True\n",
      " not a =>  False\n",
      " not b =>  True\n"
     ]
    }
   ],
   "source": [
    "a = True\n",
    "b = False\n",
    "print(\" a and b => \", a and b)\n",
    "print(\" a or b => \", a or b)\n",
    "print(\" not a => \",  not a)\n",
    "print(\" not b => \",  not b)\n"
   ]
  },
  {
   "cell_type": "markdown",
   "metadata": {},
   "source": [
    "## les operateurs d'affectations\n",
    "<p>Ils permettent d'assigner des valeurs aux variables</p>\n",
    " \n",
    "- =: assigne une valeur\n",
    "- +=: additionne et assigne\n",
    "- -=: soustrait et assigne\n",
    "- *=: multiplie et assigne\n",
    "- /=: divise et assigne\n",
    "- %=: effectue le modulo et assigne\n"
   ]
  },
  {
   "cell_type": "code",
   "execution_count": 24,
   "metadata": {},
   "outputs": [
    {
     "data": {
      "text/plain": [
       "15"
      ]
     },
     "execution_count": 24,
     "metadata": {},
     "output_type": "execute_result"
    }
   ],
   "source": [
    "x = 5\n",
    "x *=3 # x *=3 == x = x*3\n",
    "x"
   ]
  },
  {
   "cell_type": "markdown",
   "metadata": {},
   "source": [
    "## Precedence et associativite des operateurs\n",
    "\n",
    "La precedence d'un operateur determine l'ordre dans lequel les operations sont effectuees. les operateurs avec une plus haute precedence sont evalues avant ceux avec un plus base."
   ]
  },
  {
   "cell_type": "code",
   "execution_count": 6,
   "metadata": {},
   "outputs": [],
   "source": [
    "resultat = 10 + 2*3 # multiplication avant l'addition --> resultat = 10 + 6 = 16"
   ]
  },
  {
   "cell_type": "markdown",
   "metadata": {},
   "source": [
    "La table des precedences suit cet ordre:\n",
    "1-parentheses (), 2-puissances etc"
   ]
  },
  {
   "cell_type": "markdown",
   "metadata": {},
   "source": [
    "## Associativite\n",
    "\n",
    "<p>L'associativite determine l'ordre dans lequel les operateurs de meme precedence sont evalues. En generale python evalue les operateurs de gauche a droite (associativite a gauche). Ce pendant pour certaines operateurs comme la puissance l'associativite est a droite</p>"
   ]
  },
  {
   "cell_type": "code",
   "execution_count": 8,
   "metadata": {},
   "outputs": [
    {
     "name": "stdout",
     "output_type": "stream",
     "text": [
      "512\n"
     ]
    }
   ],
   "source": [
    "print(2**3**2)\n",
    "# associativite a droite ==> 2**(3**2) = 2**9=512"
   ]
  },
  {
   "cell_type": "markdown",
   "metadata": {},
   "source": [
    "## Les objects Mutable et immutables\n",
    "\n",
    "<p>En python les objects peuvent mutables ou immutable</p>\n",
    "\n",
    "- Object Mutable: leurs valeurs peuvent etre modifiees apres leurs creation\n",
    "- Object Immutable: leurs valeurs ne peuvent pas etre modifier apres leurs creations\n",
    "\n",
    "###  Object Mutable\n",
    "<p>Exemple d'object mutable</p>\n",
    "\n",
    "- Listes (list): les elements d'une liste peuvent etre modifiea.\n",
    "- les dictionnaires (dict): Les valeurs d'un dictionnaires peuvent etre changees."
   ]
  },
  {
   "cell_type": "code",
   "execution_count": 9,
   "metadata": {},
   "outputs": [
    {
     "name": "stdout",
     "output_type": "stream",
     "text": [
      "[10, 2, 3]\n"
     ]
    }
   ],
   "source": [
    "my_list = [1,2,3]\n",
    "my_list[0] = 10\n",
    "print(my_list)"
   ]
  },
  {
   "cell_type": "code",
   "execution_count": 15,
   "metadata": {},
   "outputs": [
    {
     "data": {
      "text/plain": [
       "{'name': 'pempeme', 'country': 'camerroon'}"
      ]
     },
     "execution_count": 15,
     "metadata": {},
     "output_type": "execute_result"
    }
   ],
   "source": [
    "my_dict = {\n",
    "    \"name\":\"pempeme\",\n",
    "    \"country\":\"camerroon\"\n",
    "}\n",
    "\n",
    "my_dict"
   ]
  },
  {
   "cell_type": "markdown",
   "metadata": {},
   "source": [
    "### Objects Immutables\n",
    "\n",
    "- Nombres entiers (int)\n",
    "- chaines de caracteres (str)\n",
    "- tuple (tuple)"
   ]
  },
  {
   "cell_type": "code",
   "execution_count": 19,
   "metadata": {},
   "outputs": [],
   "source": [
    "my_tuple = (2,6,1)\n",
    "# my_tuple[1] = 3"
   ]
  },
  {
   "cell_type": "markdown",
   "metadata": {},
   "source": [
    "## Operateurs is et id\n",
    "\n",
    "- is: compare si deux objects sont les meme en memoire\n",
    "- id(): retourne l'identifiant unique d'un object (adresse memoire)\n"
   ]
  },
  {
   "cell_type": "code",
   "execution_count": 22,
   "metadata": {},
   "outputs": [
    {
     "name": "stdout",
     "output_type": "stream",
     "text": [
      " a is b ==> True\n",
      "id(a) =  1805104660096\n",
      "id(b) =  1805104660096\n",
      " a == c --> True\n",
      " a is c --> False\n",
      " id(a) --> 1805104660096\n",
      " id(c) --> 1805098371712\n"
     ]
    }
   ],
   "source": [
    "a = [1,2,3]\n",
    "b=a\n",
    "print(\" a is b ==>\", a is b)\n",
    "print(\"id(a) = \", id(a))\n",
    "print(\"id(b) = \", id(b))\n",
    "\n",
    "c = [1,2,3]\n",
    "print(\" a == c -->\", a==c)\n",
    "print(\" a is c -->\", a is c)\n",
    "print(\" id(a) -->\", id(a))\n",
    "print(\" id(c) -->\", id(c))"
   ]
  }
 ],
 "metadata": {
  "kernelspec": {
   "display_name": "Python 3",
   "language": "python",
   "name": "python3"
  },
  "language_info": {
   "codemirror_mode": {
    "name": "ipython",
    "version": 3
   },
   "file_extension": ".py",
   "mimetype": "text/x-python",
   "name": "python",
   "nbconvert_exporter": "python",
   "pygments_lexer": "ipython3",
   "version": "3.12.1"
  }
 },
 "nbformat": 4,
 "nbformat_minor": 2
}
