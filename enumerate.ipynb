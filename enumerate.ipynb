{
 "cells": [
  {
   "cell_type": "code",
   "execution_count": 2,
   "metadata": {},
   "outputs": [
    {
     "name": "stdout",
     "output_type": "stream",
     "text": [
      "Index :  0 Fruit :  banane\n",
      "Index :  1 Fruit :  pomme\n",
      "Index :  2 Fruit :  orange\n",
      "Index :  3 Fruit :  pamplemousse\n"
     ]
    }
   ],
   "source": [
    "\"\"\"\n",
    "    enumerate(sequence, start=1)\n",
    "\"\"\"\n",
    "\n",
    "fruits = ['banane', 'pomme', 'orange','pamplemousse']\n",
    "# enumerate(fruits)\n",
    "for index, fruit in enumerate(fruits):\n",
    "    print(\"Index : \", index, \"Fruit : \", fruit)"
   ]
  },
  {
   "cell_type": "code",
   "execution_count": 4,
   "metadata": {},
   "outputs": [
    {
     "name": "stdout",
     "output_type": "stream",
     "text": [
      "Index :  0  Name :  P\n",
      "Index :  1  Name :  e\n",
      "Index :  2  Name :  m\n",
      "Index :  3  Name :  o\n",
      "Index :  4  Name :  c\n",
      "Index :  5  Name :  h\n",
      "Index :  6  Name :  a\n",
      "Index :  7  Name :  m\n"
     ]
    }
   ],
   "source": [
    "username = \"Pemocham\"\n",
    "\n",
    "for index, name in enumerate(username):\n",
    "    print(\"Index : \", index, \" Name : \", name)\n",
    "\n"
   ]
  },
  {
   "cell_type": "code",
   "execution_count": 6,
   "metadata": {},
   "outputs": [
    {
     "name": "stdout",
     "output_type": "stream",
     "text": [
      "Index :  1 Valeur :  23\n",
      "Index :  2 Valeur :  56\n",
      "Index :  3 Valeur :  89\n",
      "Index :  4 Valeur :  1\n",
      "Index :  5 Valeur :  0\n",
      "Index :  6 Valeur :  5\n"
     ]
    }
   ],
   "source": [
    "ensemble = (23,56,89,1,0,5)\n",
    "\n",
    "for index, value in enumerate(ensemble, start=1):\n",
    "    print(\"Index : \", index, \"Valeur : \", value)"
   ]
  },
  {
   "cell_type": "code",
   "execution_count": 10,
   "metadata": {},
   "outputs": [
    {
     "name": "stdout",
     "output_type": "stream",
     "text": [
      "Index :  0  nbre absolu pair :  2\n",
      "Index :  1  nbre absolu pair :  4\n",
      "Index :  6  nbre absolu pair :  4\n"
     ]
    }
   ],
   "source": [
    "numbers = [2,4,-8,-4,0,-9,4,7]\n",
    "\n",
    "for index, abs_nbre in enumerate(numbers):\n",
    "    if abs_nbre > 0:\n",
    "        if abs_nbre % 2 == 0:\n",
    "            \n",
    "            print(\"Index : \", index, \" nbre absolu pair : \", abs_nbre)"
   ]
  }
 ],
 "metadata": {
  "kernelspec": {
   "display_name": "Python 3",
   "language": "python",
   "name": "python3"
  },
  "language_info": {
   "codemirror_mode": {
    "name": "ipython",
    "version": 3
   },
   "file_extension": ".py",
   "mimetype": "text/x-python",
   "name": "python",
   "nbconvert_exporter": "python",
   "pygments_lexer": "ipython3",
   "version": "3.12.1"
  }
 },
 "nbformat": 4,
 "nbformat_minor": 2
}
